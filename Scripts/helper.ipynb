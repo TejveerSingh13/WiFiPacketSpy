{
 "cells": [
  {
   "cell_type": "code",
   "execution_count": 1,
   "metadata": {},
   "outputs": [],
   "source": [
    "import pandas as pd\n",
    "import os"
   ]
  },
  {
   "cell_type": "code",
   "execution_count": 8,
   "metadata": {},
   "outputs": [
    {
     "name": "stderr",
     "output_type": "stream",
     "text": [
      "C:\\Users\\tejve\\AppData\\Local\\Temp\\ipykernel_21508\\1822880682.py:16: SettingWithCopyWarning: \n",
      "A value is trying to be set on a copy of a slice from a DataFrame.\n",
      "Try using .loc[row_indexer,col_indexer] = value instead\n",
      "\n",
      "See the caveats in the documentation: https://pandas.pydata.org/pandas-docs/stable/user_guide/indexing.html#returning-a-view-versus-a-copy\n",
      "  filtered_df['frame.time'] = pd.to_datetime(filtered_df['frame.time'], format='%b %d, %Y %H:%M:%S.%f000 EDT')\n",
      "C:\\Users\\tejve\\AppData\\Local\\Temp\\ipykernel_21508\\1822880682.py:19: SettingWithCopyWarning: \n",
      "A value is trying to be set on a copy of a slice from a DataFrame.\n",
      "Try using .loc[row_indexer,col_indexer] = value instead\n",
      "\n",
      "See the caveats in the documentation: https://pandas.pydata.org/pandas-docs/stable/user_guide/indexing.html#returning-a-view-versus-a-copy\n",
      "  filtered_df['time_interval'] = (filtered_df['frame.time'] - filtered_df['frame.time'].shift(1)).dt.total_seconds()\n",
      "C:\\Users\\tejve\\AppData\\Local\\Temp\\ipykernel_21508\\1822880682.py:22: SettingWithCopyWarning: \n",
      "A value is trying to be set on a copy of a slice from a DataFrame.\n",
      "Try using .loc[row_indexer,col_indexer] = value instead\n",
      "\n",
      "See the caveats in the documentation: https://pandas.pydata.org/pandas-docs/stable/user_guide/indexing.html#returning-a-view-versus-a-copy\n",
      "  filtered_df['time_increment'] = (filtered_df['frame.time'] - filtered_df['frame.time'].iloc[0]).dt.total_seconds()\n",
      "C:\\Users\\tejve\\AppData\\Local\\Temp\\ipykernel_21508\\1822880682.py:25: SettingWithCopyWarning: \n",
      "A value is trying to be set on a copy of a slice from a DataFrame\n",
      "\n",
      "See the caveats in the documentation: https://pandas.pydata.org/pandas-docs/stable/user_guide/indexing.html#returning-a-view-versus-a-copy\n",
      "  filtered_df['time_interval'].iloc[0] = 0.000000\n",
      "C:\\Users\\tejve\\AppData\\Local\\Temp\\ipykernel_21508\\1822880682.py:26: SettingWithCopyWarning: \n",
      "A value is trying to be set on a copy of a slice from a DataFrame\n",
      "\n",
      "See the caveats in the documentation: https://pandas.pydata.org/pandas-docs/stable/user_guide/indexing.html#returning-a-view-versus-a-copy\n",
      "  filtered_df['time_increment'].iloc[0] = 0.000000\n"
     ]
    }
   ],
   "source": [
    "# Read the CSV file\n",
    "df = pd.read_csv(\"../CSV/google.csv\")\n",
    "\n",
    "# Define src and dst MAC addresses as strings\n",
    "## Keep src as device MAC and dst as router MAC //change for google!!!!\n",
    "src = \"b6:74:9b:14:c5:ab\" \n",
    "dst = \"44:64:3c:02:fd:bf\"\n",
    "\n",
    "# Create a condition that checks both cases and combines them with logical OR\n",
    "combined_condition = ((df['eth.src'] == src) & (df['eth.dst'] == dst)) | ((df['eth.src'] == dst) & (df['eth.dst'] == src))\n",
    "\n",
    "# Apply the condition to filter rows in the DataFrame\n",
    "filtered_df = df[combined_condition]\n",
    "\n",
    "# # Convert 'frame.time' to datetime\n",
    "filtered_df['frame.time'] = pd.to_datetime(filtered_df['frame.time'], format='%b %d, %Y %H:%M:%S.%f000 EDT')\n",
    "\n",
    "# # Calculate time intervals\n",
    "filtered_df['time_interval'] = (filtered_df['frame.time'] - filtered_df['frame.time'].shift(1)).dt.total_seconds()\n",
    "\n",
    "## Calculate the time increments\n",
    "filtered_df['time_increment'] = (filtered_df['frame.time'] - filtered_df['frame.time'].iloc[0]).dt.total_seconds()\n",
    "\n",
    "# # Fill the first row with 0 seconds\n",
    "filtered_df['time_interval'].iloc[0] = 0.000000\n",
    "filtered_df['time_increment'].iloc[0] = 0.000000\n",
    "\n",
    "# # Drop the 'frame.time' column\n",
    "filtered_df = filtered_df.drop(columns=['frame.time'])\n",
    "\n",
    "# # Add a new column 'label' with all values set to 4\n",
    "filtered_df['label'] = 0\n",
    "\n",
    "# for google\n",
    "# filtered_df = filtered_df.drop(columns=['Unnamed: 4', 'Unnamed: 5', 'Unnamed: 6'])\n",
    "\n",
    "#so that we have a direction \n",
    "src_dst_mapping = {src: 0, dst: 1}\n",
    "filtered_df['eth.src'] = filtered_df['eth.src'].map(src_dst_mapping)\n",
    "filtered_df['eth.dst'] = filtered_df['eth.dst'].map(src_dst_mapping)\n",
    "\n",
    "# # Save the modified DataFrame to a new CSV file\n",
    "filtered_df.to_csv(\"../Label/v3/l0google-v3.csv\", index=False)\n"
   ]
  },
  {
   "cell_type": "code",
   "execution_count": 9,
   "metadata": {},
   "outputs": [],
   "source": [
    "# Directory where the CSV files are located\n",
    "folder_path = '../Label/v3'\n",
    "\n",
    "# List all CSV files in the directory\n",
    "csv_files = [f for f in os.listdir(folder_path) if f.endswith('.csv')]\n",
    "\n",
    "# Initialize an empty list to store DataFrames\n",
    "dfs = []\n",
    "\n",
    "# Read and append each CSV file to the list of DataFrames\n",
    "for file in csv_files:\n",
    "    file_path = os.path.join(folder_path, file)\n",
    "    df = pd.read_csv(file_path)\n",
    "    dfs.append(df)\n",
    "\n",
    "# Concatenate all DataFrames in the list\n",
    "result_df = pd.concat(dfs, ignore_index=True)\n",
    "\n",
    "# Save the concatenated DataFrame to a single CSV file\n",
    "result_df.to_csv('../DATASET/dataSetv3.csv', index=False)\n"
   ]
  }
 ],
 "metadata": {
  "kernelspec": {
   "display_name": "Python 3",
   "language": "python",
   "name": "python3"
  },
  "language_info": {
   "codemirror_mode": {
    "name": "ipython",
    "version": 3
   },
   "file_extension": ".py",
   "mimetype": "text/x-python",
   "name": "python",
   "nbconvert_exporter": "python",
   "pygments_lexer": "ipython3",
   "version": "3.10.11"
  }
 },
 "nbformat": 4,
 "nbformat_minor": 2
}
